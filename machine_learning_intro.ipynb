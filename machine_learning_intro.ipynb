{
  "nbformat": 4,
  "nbformat_minor": 0,
  "metadata": {
    "kernelspec": {
      "display_name": "Python 3",
      "language": "python",
      "name": "python3"
    },
    "language_info": {
      "codemirror_mode": {
        "name": "ipython",
        "version": 3
      },
      "file_extension": ".py",
      "mimetype": "text/x-python",
      "name": "python",
      "nbconvert_exporter": "python",
      "pygments_lexer": "ipython3",
      "version": "3.7.3"
    },
    "colab": {
      "name": "machine-learning-intro.ipynb",
      "provenance": [],
      "include_colab_link": true
    }
  },
  "cells": [
    {
      "cell_type": "markdown",
      "metadata": {
        "id": "view-in-github",
        "colab_type": "text"
      },
      "source": [
        "<a href=\"https://colab.research.google.com/github/dilanHewawitharana/Intro-to-Deep-Learning-with-PyTorch/blob/master/machine_learning_intro.ipynb\" target=\"_parent\"><img src=\"https://colab.research.google.com/assets/colab-badge.svg\" alt=\"Open In Colab\"/></a>"
      ]
    },
    {
      "cell_type": "code",
      "metadata": {
        "colab": {
          "base_uri": "https://localhost:8080/"
        },
        "id": "PkWxH_FszGIc",
        "outputId": "b3c11937-6142-40e4-a671-384fa1ab2dd6"
      },
      "source": [
        "# Jovian Commit Essentials\n",
        "# Please retain and execute this cell without modifying the contents for `jovian.commit` to work\n",
        "!pip install jovian --upgrade -q\n",
        "import jovian\n",
        "jovian.utils.colab.set_colab_file_id('1Zc0EWLdGyQ_76YSQI6UiTwNfi29ZHIjm')"
      ],
      "execution_count": 1,
      "outputs": [
        {
          "output_type": "stream",
          "text": [
            "\u001b[?25l\r\u001b[K     |█████                           | 10kB 21.6MB/s eta 0:00:01\r\u001b[K     |██████████                      | 20kB 22.9MB/s eta 0:00:01\r\u001b[K     |██████████████▉                 | 30kB 11.4MB/s eta 0:00:01\r\u001b[K     |███████████████████▉            | 40kB 9.0MB/s eta 0:00:01\r\u001b[K     |████████████████████████▉       | 51kB 4.5MB/s eta 0:00:01\r\u001b[K     |█████████████████████████████▊  | 61kB 4.7MB/s eta 0:00:01\r\u001b[K     |████████████████████████████████| 71kB 3.6MB/s \n",
            "\u001b[?25h  Building wheel for uuid (setup.py) ... \u001b[?25l\u001b[?25hdone\n"
          ],
          "name": "stdout"
        }
      ]
    },
    {
      "cell_type": "markdown",
      "metadata": {
        "id": "C1jBtMIXzGIk"
      },
      "source": [
        "## Introduction to Machine Learning\n",
        "\n",
        "<img src=\"https://i.imgur.com/oJEQe7k.png\" width=\"480\" />\n",
        "\n",
        "<div style=\"text-align:center;\">\n",
        "    <a href=\"https://www.manning.com/books/deep-learning-with-python\">Image Source</a>\n",
        "</div>"
      ]
    },
    {
      "cell_type": "markdown",
      "metadata": {
        "id": "rJJ6USUCzGIl"
      },
      "source": [
        "### Linear Regression\n",
        "\n",
        "#### Linear Regression Data\n",
        "\n",
        "<img src=\"https://i.imgur.com/mtkR2lB.png\" width=\"540\" >\n",
        "\n",
        "#### Linear Regression Visualization\n",
        "\n",
        "<img src=\"https://i.imgur.com/mtkR2lB.png\" width=\"480\">\n",
        "\n",
        "\n",
        "#### Linear Regression model\n",
        "\n",
        "$$\n",
        "\\hspace{2.5cm} X \\hspace{1.1cm} \\times \\hspace{1.2cm} W^T \\hspace{1.2cm}  + \\hspace{1cm} b \\hspace{2cm}\n",
        "$$\n",
        "\n",
        "$$\n",
        "\\left[ \\begin{array}{cc}\n",
        "73 & 67 & 43 \\\\\n",
        "91 & 88 & 64 \\\\\n",
        "\\vdots & \\vdots & \\vdots \\\\\n",
        "69 & 96 & 70\n",
        "\\end{array} \\right]\n",
        "%\n",
        "\\times\n",
        "%\n",
        "\\left[ \\begin{array}{cc}\n",
        "w_{11} & w_{21} \\\\\n",
        "w_{12} & w_{22} \\\\\n",
        "w_{13} & w_{23}\n",
        "\\end{array} \\right]\n",
        "%\n",
        "+\n",
        "%\n",
        "\\left[ \\begin{array}{cc}\n",
        "b_{1} & b_{2} \\\\\n",
        "b_{1} & b_{2} \\\\\n",
        "\\vdots & \\vdots \\\\\n",
        "b_{1} & b_{2} \\\\\n",
        "\\end{array} \\right]\n",
        "$$"
      ]
    },
    {
      "cell_type": "markdown",
      "metadata": {
        "id": "yM2OV-lbzGIl"
      },
      "source": [
        "### Feedfoward Neural Network\n",
        "\n",
        "![ffnn](https://upload.wikimedia.org/wikipedia/commons/thumb/0/00/Multi-Layer_Neural_Network-Vector-Blank.svg/400px-Multi-Layer_Neural_Network-Vector-Blank.svg.png)\n",
        "\n",
        "Conceptually, you think of feedforward neural networks as two or more linear regression models stacked on top of one another with a non-linear activation function applied between them.\n",
        "\n",
        "<img src=\"https://cdn-images-1.medium.com/max/1600/1*XxxiA0jJvPrHEJHD4z893g.png\" width=\"640\">\n",
        "\n",
        "To use a feedforward neural network instead of linear regression, we can extend the `nn.Module` class from PyTorch."
      ]
    },
    {
      "cell_type": "code",
      "metadata": {
        "id": "TmEnAYpczGIl"
      },
      "source": [
        "!pip install jovian --upgrade -q"
      ],
      "execution_count": 2,
      "outputs": []
    },
    {
      "cell_type": "code",
      "metadata": {
        "id": "ZFcv8ziCzGIm"
      },
      "source": [
        "import jovian"
      ],
      "execution_count": 3,
      "outputs": []
    },
    {
      "cell_type": "code",
      "metadata": {
        "colab": {
          "base_uri": "https://localhost:8080/",
          "height": 141
        },
        "id": "BYi2CuehzGIn",
        "outputId": "e670cb4f-9fd8-4c98-ae77-4342f72c9ca8"
      },
      "source": [
        "jovian.commit(project='machine-learning-intro')"
      ],
      "execution_count": 6,
      "outputs": [
        {
          "output_type": "stream",
          "text": [
            "[jovian] Detected Colab notebook...\u001b[0m\n",
            "[jovian] Please enter your API key ( from https://jovian.ai/ ):\u001b[0m\n",
            "API KEY: ··········\n",
            "[jovian] Uploading colab notebook to Jovian...\u001b[0m\n",
            "[jovian] Capturing environment..\u001b[0m\n",
            "[jovian] Committed successfully! https://jovian.ai/dilanhewawitharana/machine-learning-intro\u001b[0m\n"
          ],
          "name": "stdout"
        },
        {
          "output_type": "execute_result",
          "data": {
            "application/vnd.google.colaboratory.intrinsic+json": {
              "type": "string"
            },
            "text/plain": [
              "'https://jovian.ai/dilanhewawitharana/machine-learning-intro'"
            ]
          },
          "metadata": {
            "tags": []
          },
          "execution_count": 6
        }
      ]
    },
    {
      "cell_type": "code",
      "metadata": {
        "id": "hFQEP6IwzGIo"
      },
      "source": [
        ""
      ],
      "execution_count": null,
      "outputs": []
    }
  ]
}