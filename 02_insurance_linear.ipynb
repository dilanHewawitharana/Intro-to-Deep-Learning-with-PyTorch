{
  "nbformat": 4,
  "nbformat_minor": 0,
  "metadata": {
    "colab": {
      "name": "02-insurance-linear.ipynb",
      "provenance": [],
      "include_colab_link": true
    },
    "kernelspec": {
      "display_name": "Python 3",
      "language": "python",
      "name": "python3"
    },
    "language_info": {
      "codemirror_mode": {
        "name": "ipython",
        "version": 3
      },
      "file_extension": ".py",
      "mimetype": "text/x-python",
      "name": "python",
      "nbconvert_exporter": "python",
      "pygments_lexer": "ipython3",
      "version": "3.8.5"
    }
  },
  "cells": [
    {
      "cell_type": "markdown",
      "metadata": {
        "id": "view-in-github",
        "colab_type": "text"
      },
      "source": [
        "<a href=\"https://colab.research.google.com/github/dilanHewawitharana/Intro-to-Deep-Learning-with-PyTorch/blob/master/02_insurance_linear.ipynb\" target=\"_parent\"><img src=\"https://colab.research.google.com/assets/colab-badge.svg\" alt=\"Open In Colab\"/></a>"
      ]
    },
    {
      "cell_type": "code",
      "metadata": {
        "id": "tFYjS9lVEiyr"
      },
      "source": [
        "# Jovian Commit Essentials\n",
        "# Please retain and execute this cell without modifying the contents for `jovian.commit` to work\n",
        "!pip install jovian --upgrade -q\n",
        "import jovian\n",
        "jovian.utils.colab.set_colab_file_id('11dezh1XoSevjh7ED7q53tUvN5h5SlL87')"
      ],
      "execution_count": 256,
      "outputs": []
    },
    {
      "cell_type": "markdown",
      "metadata": {
        "_cell_guid": "b1076dfc-b9ad-4769-8c92-a6c4dae69d19",
        "_uuid": "8f2839f25d086af736a60e9eeb907d3b93b6e0e5",
        "id": "-xpyVB1uiSpw"
      },
      "source": [
        "# Insurance cost prediction using linear regression\n",
        "\n",
        "Make a submisson here: https://jovian.ai/learn/deep-learning-with-pytorch-zero-to-gans/assignment/assignment-2-train-your-first-model\n",
        "\n",
        "In this assignment we're going to use information like a person's age, sex, BMI, no. of children and smoking habit to predict the price of yearly medical bills. This kind of model is useful for insurance companies to determine the yearly insurance premium for a person. The dataset for this problem is taken from [Kaggle](https://www.kaggle.com/mirichoi0218/insurance).\n",
        "\n",
        "\n",
        "We will create a model with the following steps:\n",
        "1. Download and explore the dataset\n",
        "2. Prepare the dataset for training\n",
        "3. Create a linear regression model\n",
        "4. Train the model to fit the data\n",
        "5. Make predictions using the trained model\n",
        "\n",
        "\n",
        "This assignment builds upon the concepts from the first 2 lessons. It will help to review these Jupyter notebooks:\n",
        "- PyTorch basics: https://jovian.ai/aakashns/01-pytorch-basics\n",
        "- Linear Regression: https://jovian.ai/aakashns/02-linear-regression\n",
        "- Logistic Regression: https://jovian.ai/aakashns/03-logistic-regression\n",
        "- Linear regression (minimal): https://jovian.ai/aakashns/housing-linear-minimal\n",
        "- Logistic regression (minimal): https://jovian.ai/aakashns/mnist-logistic-minimal\n",
        "\n",
        "As you go through this notebook, you will find a **???** in certain places. Your job is to replace the **???** with appropriate code or values, to ensure that the notebook runs properly end-to-end . In some cases, you'll be required to choose some hyperparameters (learning rate, batch size etc.). Try to experiment with the hypeparameters to get the lowest loss.\n"
      ]
    },
    {
      "cell_type": "code",
      "metadata": {
        "colab": {
          "base_uri": "https://localhost:8080/"
        },
        "id": "4qeBvABpiSpx",
        "outputId": "2218d516-1a59-44d8-f10d-2d508aecccf2"
      },
      "source": [
        "# Uncomment and run the appropriate command for your operating system, if required\n",
        "\n",
        "# Linux / Binder\n",
        "# !pip install numpy matplotlib pandas torch==1.7.0+cpu torchvision==0.8.1+cpu torchaudio==0.7.0 -f https://download.pytorch.org/whl/torch_stable.html\n",
        "\n",
        "# Windows\n",
        "!pip install numpy matplotlib pandas torch==1.7.0+cpu torchvision==0.8.1+cpu torchaudio==0.7.0 -f https://download.pytorch.org/whl/torch_stable.html\n",
        "\n",
        "# MacOS\n",
        "# !pip install numpy matplotlib pandas torch torchvision torchaudio"
      ],
      "execution_count": 257,
      "outputs": [
        {
          "output_type": "stream",
          "text": [
            "Looking in links: https://download.pytorch.org/whl/torch_stable.html\n",
            "Requirement already satisfied: numpy in /usr/local/lib/python3.6/dist-packages (1.19.5)\n",
            "Requirement already satisfied: matplotlib in /usr/local/lib/python3.6/dist-packages (3.2.2)\n",
            "Requirement already satisfied: pandas in /usr/local/lib/python3.6/dist-packages (1.1.5)\n",
            "Requirement already satisfied: torch==1.7.0+cpu in /usr/local/lib/python3.6/dist-packages (1.7.0+cpu)\n",
            "Requirement already satisfied: torchvision==0.8.1+cpu in /usr/local/lib/python3.6/dist-packages (0.8.1+cpu)\n",
            "Requirement already satisfied: torchaudio==0.7.0 in /usr/local/lib/python3.6/dist-packages (0.7.0)\n",
            "Requirement already satisfied: cycler>=0.10 in /usr/local/lib/python3.6/dist-packages (from matplotlib) (0.10.0)\n",
            "Requirement already satisfied: pyparsing!=2.0.4,!=2.1.2,!=2.1.6,>=2.0.1 in /usr/local/lib/python3.6/dist-packages (from matplotlib) (2.4.7)\n",
            "Requirement already satisfied: kiwisolver>=1.0.1 in /usr/local/lib/python3.6/dist-packages (from matplotlib) (1.3.1)\n",
            "Requirement already satisfied: python-dateutil>=2.1 in /usr/local/lib/python3.6/dist-packages (from matplotlib) (2.8.1)\n",
            "Requirement already satisfied: pytz>=2017.2 in /usr/local/lib/python3.6/dist-packages (from pandas) (2018.9)\n",
            "Requirement already satisfied: dataclasses in /usr/local/lib/python3.6/dist-packages (from torch==1.7.0+cpu) (0.8)\n",
            "Requirement already satisfied: typing-extensions in /usr/local/lib/python3.6/dist-packages (from torch==1.7.0+cpu) (3.7.4.3)\n",
            "Requirement already satisfied: future in /usr/local/lib/python3.6/dist-packages (from torch==1.7.0+cpu) (0.16.0)\n",
            "Requirement already satisfied: pillow>=4.1.1 in /usr/local/lib/python3.6/dist-packages (from torchvision==0.8.1+cpu) (7.0.0)\n",
            "Requirement already satisfied: six in /usr/local/lib/python3.6/dist-packages (from cycler>=0.10->matplotlib) (1.15.0)\n"
          ],
          "name": "stdout"
        }
      ]
    },
    {
      "cell_type": "code",
      "metadata": {
        "id": "Bt4pFMIKiSpx"
      },
      "source": [
        "import torch\n",
        "import jovian\n",
        "import torchvision\n",
        "import torch.nn as nn\n",
        "import pandas as pd\n",
        "import matplotlib.pyplot as plt\n",
        "import torch.nn.functional as F\n",
        "from torchvision.datasets.utils import download_url\n",
        "from torch.utils.data import DataLoader, TensorDataset, random_split"
      ],
      "execution_count": 258,
      "outputs": []
    },
    {
      "cell_type": "code",
      "metadata": {
        "id": "rYLX2BmuiSpy"
      },
      "source": [
        "project_name='02-insurance-linear-regression' # will be used by jovian.commit"
      ],
      "execution_count": 259,
      "outputs": []
    },
    {
      "cell_type": "markdown",
      "metadata": {
        "id": "k873oBiRiSpy"
      },
      "source": [
        "## Step 1: Download and explore the data\n",
        "\n",
        "Let us begin by downloading the data. We'll use the `download_url` function from PyTorch to get the data as a CSV (comma-separated values) file. "
      ]
    },
    {
      "cell_type": "code",
      "metadata": {
        "_cell_guid": "79c7e3d0-c299-4dcb-8224-4455121ee9b0",
        "_uuid": "d629ff2d2480ee46fbb7e2d37f6b5fab8052498a",
        "colab": {
          "base_uri": "https://localhost:8080/"
        },
        "id": "qrczHi_piSpy",
        "outputId": "c51ae919-1498-4769-cedb-5e1ed6cdad2d"
      },
      "source": [
        "DATASET_URL = \"https://hub.jovian.ml/wp-content/uploads/2020/05/insurance.csv\"\n",
        "DATA_FILENAME = \"insurance.csv\"\n",
        "download_url(DATASET_URL, '.')"
      ],
      "execution_count": 260,
      "outputs": [
        {
          "output_type": "stream",
          "text": [
            "Using downloaded and verified file: ./insurance.csv\n"
          ],
          "name": "stdout"
        }
      ]
    },
    {
      "cell_type": "markdown",
      "metadata": {
        "id": "cHVqgD3oiSpz"
      },
      "source": [
        "To load the dataset into memory, we'll use the `read_csv` function from the `pandas` library. The data will be loaded as a Pandas dataframe. See this short tutorial to learn more: https://data36.com/pandas-tutorial-1-basics-reading-data-files-dataframes-data-selection/"
      ]
    },
    {
      "cell_type": "code",
      "metadata": {
        "colab": {
          "base_uri": "https://localhost:8080/",
          "height": 203
        },
        "id": "9cm3LX3HiSpz",
        "outputId": "29f36b8e-f4b6-4715-a247-06a87d2b7408"
      },
      "source": [
        "dataframe_raw = pd.read_csv(DATA_FILENAME)\n",
        "dataframe_raw.head()"
      ],
      "execution_count": 261,
      "outputs": [
        {
          "output_type": "execute_result",
          "data": {
            "text/html": [
              "<div>\n",
              "<style scoped>\n",
              "    .dataframe tbody tr th:only-of-type {\n",
              "        vertical-align: middle;\n",
              "    }\n",
              "\n",
              "    .dataframe tbody tr th {\n",
              "        vertical-align: top;\n",
              "    }\n",
              "\n",
              "    .dataframe thead th {\n",
              "        text-align: right;\n",
              "    }\n",
              "</style>\n",
              "<table border=\"1\" class=\"dataframe\">\n",
              "  <thead>\n",
              "    <tr style=\"text-align: right;\">\n",
              "      <th></th>\n",
              "      <th>age</th>\n",
              "      <th>sex</th>\n",
              "      <th>bmi</th>\n",
              "      <th>children</th>\n",
              "      <th>smoker</th>\n",
              "      <th>region</th>\n",
              "      <th>charges</th>\n",
              "    </tr>\n",
              "  </thead>\n",
              "  <tbody>\n",
              "    <tr>\n",
              "      <th>0</th>\n",
              "      <td>19</td>\n",
              "      <td>female</td>\n",
              "      <td>27.900</td>\n",
              "      <td>0</td>\n",
              "      <td>yes</td>\n",
              "      <td>southwest</td>\n",
              "      <td>16884.92400</td>\n",
              "    </tr>\n",
              "    <tr>\n",
              "      <th>1</th>\n",
              "      <td>18</td>\n",
              "      <td>male</td>\n",
              "      <td>33.770</td>\n",
              "      <td>1</td>\n",
              "      <td>no</td>\n",
              "      <td>southeast</td>\n",
              "      <td>1725.55230</td>\n",
              "    </tr>\n",
              "    <tr>\n",
              "      <th>2</th>\n",
              "      <td>28</td>\n",
              "      <td>male</td>\n",
              "      <td>33.000</td>\n",
              "      <td>3</td>\n",
              "      <td>no</td>\n",
              "      <td>southeast</td>\n",
              "      <td>4449.46200</td>\n",
              "    </tr>\n",
              "    <tr>\n",
              "      <th>3</th>\n",
              "      <td>33</td>\n",
              "      <td>male</td>\n",
              "      <td>22.705</td>\n",
              "      <td>0</td>\n",
              "      <td>no</td>\n",
              "      <td>northwest</td>\n",
              "      <td>21984.47061</td>\n",
              "    </tr>\n",
              "    <tr>\n",
              "      <th>4</th>\n",
              "      <td>32</td>\n",
              "      <td>male</td>\n",
              "      <td>28.880</td>\n",
              "      <td>0</td>\n",
              "      <td>no</td>\n",
              "      <td>northwest</td>\n",
              "      <td>3866.85520</td>\n",
              "    </tr>\n",
              "  </tbody>\n",
              "</table>\n",
              "</div>"
            ],
            "text/plain": [
              "   age     sex     bmi  children smoker     region      charges\n",
              "0   19  female  27.900         0    yes  southwest  16884.92400\n",
              "1   18    male  33.770         1     no  southeast   1725.55230\n",
              "2   28    male  33.000         3     no  southeast   4449.46200\n",
              "3   33    male  22.705         0     no  northwest  21984.47061\n",
              "4   32    male  28.880         0     no  northwest   3866.85520"
            ]
          },
          "metadata": {
            "tags": []
          },
          "execution_count": 261
        }
      ]
    },
    {
      "cell_type": "markdown",
      "metadata": {
        "id": "veUkpQr2iSp0"
      },
      "source": [
        "We're going to do a slight customization of the data, so that you every participant receives a slightly different version of the dataset. Fill in your name below as a string (enter at least 5 characters)"
      ]
    },
    {
      "cell_type": "code",
      "metadata": {
        "id": "T3rif3PJiSp0"
      },
      "source": [
        "your_name = \"dilan\""
      ],
      "execution_count": 262,
      "outputs": []
    },
    {
      "cell_type": "markdown",
      "metadata": {
        "id": "5eOqoVWeiSp0"
      },
      "source": [
        "The `customize_dataset` function will customize the dataset slightly using your name as a source of random numbers."
      ]
    },
    {
      "cell_type": "code",
      "metadata": {
        "id": "9dgt7gzFiSp1"
      },
      "source": [
        "def customize_dataset(dataframe_raw, rand_str):\n",
        "    dataframe = dataframe_raw.copy(deep=True)\n",
        "    # drop some rows\n",
        "    dataframe = dataframe.sample(int(0.95*len(dataframe)), random_state=int(ord(rand_str[0])))\n",
        "    # scale input\n",
        "    dataframe.bmi = dataframe.bmi * ord(rand_str[1])/100.\n",
        "    # scale target\n",
        "    dataframe.charges = dataframe.charges * ord(rand_str[2])/100.\n",
        "    # drop column\n",
        "    if ord(rand_str[3]) % 2 == 1:\n",
        "        dataframe = dataframe.drop(['region'], axis=1)\n",
        "    return dataframe"
      ],
      "execution_count": 263,
      "outputs": []
    },
    {
      "cell_type": "code",
      "metadata": {
        "colab": {
          "base_uri": "https://localhost:8080/",
          "height": 203
        },
        "id": "7lzdyuifiSp1",
        "outputId": "7829c1e3-0227-43a4-90a1-cad0a30e1705"
      },
      "source": [
        "dataframe = customize_dataset(dataframe_raw, your_name)\n",
        "dataframe.head()"
      ],
      "execution_count": 264,
      "outputs": [
        {
          "output_type": "execute_result",
          "data": {
            "text/html": [
              "<div>\n",
              "<style scoped>\n",
              "    .dataframe tbody tr th:only-of-type {\n",
              "        vertical-align: middle;\n",
              "    }\n",
              "\n",
              "    .dataframe tbody tr th {\n",
              "        vertical-align: top;\n",
              "    }\n",
              "\n",
              "    .dataframe thead th {\n",
              "        text-align: right;\n",
              "    }\n",
              "</style>\n",
              "<table border=\"1\" class=\"dataframe\">\n",
              "  <thead>\n",
              "    <tr style=\"text-align: right;\">\n",
              "      <th></th>\n",
              "      <th>age</th>\n",
              "      <th>sex</th>\n",
              "      <th>bmi</th>\n",
              "      <th>children</th>\n",
              "      <th>smoker</th>\n",
              "      <th>charges</th>\n",
              "    </tr>\n",
              "  </thead>\n",
              "  <tbody>\n",
              "    <tr>\n",
              "      <th>12</th>\n",
              "      <td>23</td>\n",
              "      <td>male</td>\n",
              "      <td>36.12000</td>\n",
              "      <td>0</td>\n",
              "      <td>no</td>\n",
              "      <td>1972.990440</td>\n",
              "    </tr>\n",
              "    <tr>\n",
              "      <th>306</th>\n",
              "      <td>28</td>\n",
              "      <td>female</td>\n",
              "      <td>28.87500</td>\n",
              "      <td>2</td>\n",
              "      <td>no</td>\n",
              "      <td>21791.884820</td>\n",
              "    </tr>\n",
              "    <tr>\n",
              "      <th>318</th>\n",
              "      <td>44</td>\n",
              "      <td>female</td>\n",
              "      <td>29.02725</td>\n",
              "      <td>0</td>\n",
              "      <td>no</td>\n",
              "      <td>8014.890114</td>\n",
              "    </tr>\n",
              "    <tr>\n",
              "      <th>815</th>\n",
              "      <td>20</td>\n",
              "      <td>female</td>\n",
              "      <td>33.03300</td>\n",
              "      <td>0</td>\n",
              "      <td>no</td>\n",
              "      <td>2028.163752</td>\n",
              "    </tr>\n",
              "    <tr>\n",
              "      <th>157</th>\n",
              "      <td>18</td>\n",
              "      <td>male</td>\n",
              "      <td>26.43375</td>\n",
              "      <td>0</td>\n",
              "      <td>yes</td>\n",
              "      <td>16759.634670</td>\n",
              "    </tr>\n",
              "  </tbody>\n",
              "</table>\n",
              "</div>"
            ],
            "text/plain": [
              "     age     sex       bmi  children smoker       charges\n",
              "12    23    male  36.12000         0     no   1972.990440\n",
              "306   28  female  28.87500         2     no  21791.884820\n",
              "318   44  female  29.02725         0     no   8014.890114\n",
              "815   20  female  33.03300         0     no   2028.163752\n",
              "157   18    male  26.43375         0    yes  16759.634670"
            ]
          },
          "metadata": {
            "tags": []
          },
          "execution_count": 264
        }
      ]
    },
    {
      "cell_type": "markdown",
      "metadata": {
        "id": "J6ifsuMliSp1"
      },
      "source": [
        "Let us answer some basic questions about the dataset. \n",
        "\n",
        "\n",
        "**Q: How many rows does the dataset have?**"
      ]
    },
    {
      "cell_type": "code",
      "metadata": {
        "colab": {
          "base_uri": "https://localhost:8080/"
        },
        "id": "6BvqbSJQiSp1",
        "outputId": "0c4c9ad6-87fd-4a48-9061-fabe0a2a7361"
      },
      "source": [
        "num_rows = len(dataframe)\n",
        "print(num_rows)"
      ],
      "execution_count": 265,
      "outputs": [
        {
          "output_type": "stream",
          "text": [
            "1271\n"
          ],
          "name": "stdout"
        }
      ]
    },
    {
      "cell_type": "markdown",
      "metadata": {
        "id": "fHwTcViciSp2"
      },
      "source": [
        "**Q: How many columns doe the dataset have**"
      ]
    },
    {
      "cell_type": "code",
      "metadata": {
        "colab": {
          "base_uri": "https://localhost:8080/"
        },
        "id": "1X0_E5FgiSp2",
        "outputId": "8c293f79-e6c3-40ce-8ffb-c042d30cee18"
      },
      "source": [
        "num_cols = dataframe.shape[1]\n",
        "print(num_cols)"
      ],
      "execution_count": 266,
      "outputs": [
        {
          "output_type": "stream",
          "text": [
            "6\n"
          ],
          "name": "stdout"
        }
      ]
    },
    {
      "cell_type": "markdown",
      "metadata": {
        "id": "XTW-wFS5iSp2"
      },
      "source": [
        "**Q: What are the column titles of the input variables?**"
      ]
    },
    {
      "cell_type": "code",
      "metadata": {
        "id": "vX_p6nDLiSp2"
      },
      "source": [
        "input_cols = [\"age\", \"sex\", \"bmi\", \"children\", \"smoker\"]"
      ],
      "execution_count": 267,
      "outputs": []
    },
    {
      "cell_type": "markdown",
      "metadata": {
        "id": "JDruidSuiSp2"
      },
      "source": [
        "**Q: Which of the input columns are non-numeric or categorial variables ?**\n",
        "\n",
        "Hint: `sex` is one of them. List the columns that are not numbers."
      ]
    },
    {
      "cell_type": "code",
      "metadata": {
        "id": "DyxPS5_0iSp3"
      },
      "source": [
        "categorical_cols = [\"sex\", \"smoker\"]"
      ],
      "execution_count": 268,
      "outputs": []
    },
    {
      "cell_type": "markdown",
      "metadata": {
        "id": "P5Npnyg3iSp3"
      },
      "source": [
        "**Q: What are the column titles of output/target variable(s)?**"
      ]
    },
    {
      "cell_type": "code",
      "metadata": {
        "id": "8WFCtC4AiSp3"
      },
      "source": [
        "output_cols = [\"charges\"]"
      ],
      "execution_count": 269,
      "outputs": []
    },
    {
      "cell_type": "markdown",
      "metadata": {
        "id": "nSZBShuQiSp3"
      },
      "source": [
        "**Q: (Optional) What is the minimum, maximum and average value of the `charges` column? Can you show the distribution of values in a graph?**\n",
        "Use this data visualization cheatsheet for referece: https://jovian.ml/aakashns/dataviz-cheatsheet"
      ]
    },
    {
      "cell_type": "code",
      "metadata": {
        "colab": {
          "base_uri": "https://localhost:8080/"
        },
        "id": "LWXoGmJRiSp3",
        "outputId": "c11684e4-182b-4f1f-9e2a-2efb6eca7fd7"
      },
      "source": [
        "# Write your answer here\r\n",
        "charge_col = dataframe[\"charges\"]\r\n",
        "print(\"min_value : {}\".format(min(charge_col)))\r\n",
        "print(\"max_value : {}\".format(max(charge_col)))\r\n",
        "print(\"avg_value : {}\".format(sum(charge_col)/len(charge_col)))"
      ],
      "execution_count": 270,
      "outputs": [
        {
          "output_type": "stream",
          "text": [
            "min_value : 1211.623812\n",
            "max_value : 68872.06225080001\n",
            "avg_value : 14422.344658803895\n"
          ],
          "name": "stdout"
        }
      ]
    },
    {
      "cell_type": "markdown",
      "metadata": {
        "id": "b7xnp0jRiSp3"
      },
      "source": [
        "Remember to commit your notebook to Jovian after every step, so that you don't lose your work."
      ]
    },
    {
      "cell_type": "code",
      "metadata": {
        "id": "xda9aQt4iSp4"
      },
      "source": [
        "!pip install jovian --upgrade -q"
      ],
      "execution_count": 271,
      "outputs": []
    },
    {
      "cell_type": "code",
      "metadata": {
        "id": "Hjl7IG8qiSp4"
      },
      "source": [
        "import jovian"
      ],
      "execution_count": 272,
      "outputs": []
    },
    {
      "cell_type": "code",
      "metadata": {
        "colab": {
          "base_uri": "https://localhost:8080/",
          "height": 105
        },
        "id": "JF-rptTCiSp4",
        "outputId": "5dab5d08-f751-4c18-9c63-c419011ec559"
      },
      "source": [
        "jovian.commit(project=project_name)"
      ],
      "execution_count": 273,
      "outputs": [
        {
          "output_type": "stream",
          "text": [
            "[jovian] Detected Colab notebook...\u001b[0m\n",
            "[jovian] Uploading colab notebook to Jovian...\u001b[0m\n",
            "[jovian] Capturing environment..\u001b[0m\n",
            "[jovian] Committed successfully! https://jovian.ai/dilanhewawitharana/02-insurance-linear-regression\u001b[0m\n"
          ],
          "name": "stdout"
        },
        {
          "output_type": "execute_result",
          "data": {
            "application/vnd.google.colaboratory.intrinsic+json": {
              "type": "string"
            },
            "text/plain": [
              "'https://jovian.ai/dilanhewawitharana/02-insurance-linear-regression'"
            ]
          },
          "metadata": {
            "tags": []
          },
          "execution_count": 273
        }
      ]
    },
    {
      "cell_type": "markdown",
      "metadata": {
        "id": "iHYe5StRiSp4"
      },
      "source": [
        "## Step 2: Prepare the dataset for training\n",
        "\n",
        "We need to convert the data from the Pandas dataframe into a PyTorch tensors for training. To do this, the first step is to convert it numpy arrays. If you've filled out `input_cols`, `categorial_cols` and `output_cols` correctly, this following function will perform the conversion to numpy arrays."
      ]
    },
    {
      "cell_type": "code",
      "metadata": {
        "id": "6UmqrkCYiSp4"
      },
      "source": [
        "def dataframe_to_arrays(dataframe):\n",
        "    # Make a copy of the original dataframe\n",
        "    dataframe1 = dataframe.copy(deep=True)\n",
        "    # Convert non-numeric categorical columns to numbers\n",
        "    for col in categorical_cols:\n",
        "        dataframe1[col] = dataframe1[col].astype('category').cat.codes\n",
        "    # Extract input & outupts as numpy arrays\n",
        "    inputs_array = dataframe1[input_cols].to_numpy(dtype='float32')\n",
        "    targets_array = dataframe1[output_cols].to_numpy(dtype='float32')\n",
        "    return inputs_array, targets_array"
      ],
      "execution_count": 274,
      "outputs": []
    },
    {
      "cell_type": "markdown",
      "metadata": {
        "id": "tNTPmP8uiSp5"
      },
      "source": [
        "Read through the [Pandas documentation](https://pandas.pydata.org/pandas-docs/stable/user_guide/categorical.html) to understand how we're converting categorical variables into numbers."
      ]
    },
    {
      "cell_type": "code",
      "metadata": {
        "colab": {
          "base_uri": "https://localhost:8080/"
        },
        "id": "ettH1tsoiSp5",
        "outputId": "01d30e7e-0c84-444a-cd99-1a9cf69a7e3a"
      },
      "source": [
        "inputs_array, targets_array = dataframe_to_arrays(dataframe)\n",
        "inputs_array, targets_array"
      ],
      "execution_count": 275,
      "outputs": [
        {
          "output_type": "execute_result",
          "data": {
            "text/plain": [
              "(array([[23.     ,  1.     , 36.12   ,  0.     ,  0.     ],\n",
              "        [28.     ,  0.     , 28.875  ,  2.     ,  0.     ],\n",
              "        [44.     ,  0.     , 29.02725,  0.     ,  0.     ],\n",
              "        ...,\n",
              "        [35.     ,  1.     , 38.5035 ,  1.     ,  1.     ],\n",
              "        [59.     ,  0.     , 32.9175 ,  0.     ,  0.     ],\n",
              "        [62.     ,  0.     , 34.61325,  3.     ,  0.     ]], dtype=float32),\n",
              " array([[ 1972.9905],\n",
              "        [21791.885 ],\n",
              "        [ 8014.89  ],\n",
              "        ...,\n",
              "        [42956.22  ],\n",
              "        [13631.954 ],\n",
              "        [16861.168 ]], dtype=float32))"
            ]
          },
          "metadata": {
            "tags": []
          },
          "execution_count": 275
        }
      ]
    },
    {
      "cell_type": "markdown",
      "metadata": {
        "id": "3XhkctbAiSp6"
      },
      "source": [
        "**Q: Convert the numpy arrays `inputs_array` and `targets_array` into PyTorch tensors. Make sure that the data type is `torch.float32`.**"
      ]
    },
    {
      "cell_type": "code",
      "metadata": {
        "id": "olnBs_jniSp6"
      },
      "source": [
        "inputs = torch.from_numpy(inputs_array)\n",
        "targets = torch.from_numpy(targets_array)"
      ],
      "execution_count": 276,
      "outputs": []
    },
    {
      "cell_type": "code",
      "metadata": {
        "colab": {
          "base_uri": "https://localhost:8080/"
        },
        "id": "0-OUCKooiSp6",
        "outputId": "e142d8f0-6f96-4372-efc2-31b48262fac4"
      },
      "source": [
        "inputs.dtype, targets.dtype"
      ],
      "execution_count": 277,
      "outputs": [
        {
          "output_type": "execute_result",
          "data": {
            "text/plain": [
              "(torch.float32, torch.float32)"
            ]
          },
          "metadata": {
            "tags": []
          },
          "execution_count": 277
        }
      ]
    },
    {
      "cell_type": "markdown",
      "metadata": {
        "id": "_XOGh21ziSp6"
      },
      "source": [
        "Next, we need to create PyTorch datasets & data loaders for training & validation. We'll start by creating a `TensorDataset`."
      ]
    },
    {
      "cell_type": "code",
      "metadata": {
        "id": "vvR8Jb7viSp7"
      },
      "source": [
        "dataset = TensorDataset(inputs, targets)"
      ],
      "execution_count": 278,
      "outputs": []
    },
    {
      "cell_type": "markdown",
      "metadata": {
        "id": "Q_Y3X09ViSp7"
      },
      "source": [
        "**Q: Pick a number between `0.1` and `0.2` to determine the fraction of data that will be used for creating the validation set. Then use `random_split` to create training & validation datasets.**"
      ]
    },
    {
      "cell_type": "code",
      "metadata": {
        "id": "84AbLHZhiSp7"
      },
      "source": [
        "val_percent = 0.15 # between 0.1 and 0.2\n",
        "val_size = int(num_rows * val_percent)\n",
        "train_size = num_rows - val_size\n",
        "\n",
        "\n",
        "train_ds, val_ds = random_split(dataset, [train_size, val_size]) # Use the random_split function to split dataset into 2 parts of the desired length"
      ],
      "execution_count": 279,
      "outputs": []
    },
    {
      "cell_type": "markdown",
      "metadata": {
        "id": "C2oFnzIriSp7"
      },
      "source": [
        "Finally, we can create data loaders for training & validation.\n",
        "\n",
        "**Q: Pick a batch size for the data loader.**"
      ]
    },
    {
      "cell_type": "code",
      "metadata": {
        "id": "7tJjg8iIiSp7"
      },
      "source": [
        "batch_size = 128"
      ],
      "execution_count": 280,
      "outputs": []
    },
    {
      "cell_type": "code",
      "metadata": {
        "id": "N7iI-8bNiSp8"
      },
      "source": [
        "train_loader = DataLoader(train_ds, batch_size, shuffle=True)\n",
        "val_loader = DataLoader(val_ds, batch_size)"
      ],
      "execution_count": 281,
      "outputs": []
    },
    {
      "cell_type": "markdown",
      "metadata": {
        "id": "CzCAd84fiSp8"
      },
      "source": [
        "Let's look at a batch of data to verify everything is working fine so far."
      ]
    },
    {
      "cell_type": "code",
      "metadata": {
        "colab": {
          "base_uri": "https://localhost:8080/"
        },
        "id": "JwXVhjPNiSp8",
        "outputId": "b9001dad-5a24-478a-ad86-0cdd95fd9ca0"
      },
      "source": [
        "for xb, yb in train_loader:\n",
        "    print(\"inputs:\", len(xb))\n",
        "    print(\"targets:\", len(yb))\n",
        "    break"
      ],
      "execution_count": 282,
      "outputs": [
        {
          "output_type": "stream",
          "text": [
            "inputs: 128\n",
            "targets: 128\n"
          ],
          "name": "stdout"
        }
      ]
    },
    {
      "cell_type": "markdown",
      "metadata": {
        "id": "tXJFmhU9iSp8"
      },
      "source": [
        "Let's save our work by committing to Jovian."
      ]
    },
    {
      "cell_type": "code",
      "metadata": {
        "colab": {
          "base_uri": "https://localhost:8080/",
          "height": 88
        },
        "id": "j-Q8xqaBiSp9",
        "outputId": "3e94abbc-b2cd-4e05-b735-7caa9280ac62"
      },
      "source": [
        "jovian.commit(project=project_name, environment=None)"
      ],
      "execution_count": 283,
      "outputs": [
        {
          "output_type": "stream",
          "text": [
            "[jovian] Detected Colab notebook...\u001b[0m\n",
            "[jovian] Uploading colab notebook to Jovian...\u001b[0m\n",
            "[jovian] Committed successfully! https://jovian.ai/dilanhewawitharana/02-insurance-linear-regression\u001b[0m\n"
          ],
          "name": "stdout"
        },
        {
          "output_type": "execute_result",
          "data": {
            "application/vnd.google.colaboratory.intrinsic+json": {
              "type": "string"
            },
            "text/plain": [
              "'https://jovian.ai/dilanhewawitharana/02-insurance-linear-regression'"
            ]
          },
          "metadata": {
            "tags": []
          },
          "execution_count": 283
        }
      ]
    },
    {
      "cell_type": "markdown",
      "metadata": {
        "id": "Qp8gvugDiSp9"
      },
      "source": [
        "## Step 3: Create a Linear Regression Model\n",
        "\n",
        "Our model itself is a fairly straightforward linear regression (we'll build more complex models in the next assignment). \n"
      ]
    },
    {
      "cell_type": "code",
      "metadata": {
        "id": "bMzMmLviiSp9"
      },
      "source": [
        "input_size = len(input_cols)\n",
        "output_size = len(output_cols)"
      ],
      "execution_count": 284,
      "outputs": []
    },
    {
      "cell_type": "markdown",
      "metadata": {
        "id": "x1z5SkGQiSp9"
      },
      "source": [
        "**Q: Complete the class definition below by filling out the constructor (`__init__`), `forward`, `training_step` and `validation_step` methods.**\n",
        "\n",
        "Hint: Think carefully about picking a good loss fuction (it's not cross entropy). Maybe try 2-3 of them and see which one works best. See https://pytorch.org/docs/stable/nn.functional.html#loss-functions"
      ]
    },
    {
      "cell_type": "code",
      "metadata": {
        "id": "G2gf88zdiSp9"
      },
      "source": [
        "class InsuranceModel(nn.Module):\n",
        "    def __init__(self):\n",
        "        super().__init__()\n",
        "        self.linear = nn.Linear(input_size, output_size) # fill this (hint: use input_size & output_size defined above)\n",
        "        \n",
        "    def forward(self, xb):\n",
        "        out = self.linear(xb) # fill this\n",
        "        return out\n",
        "    \n",
        "    def training_step(self, batch):\n",
        "        inputs, targets = batch \n",
        "        # Generate predictions\n",
        "        out = self(inputs)          \n",
        "        # Calcuate loss\n",
        "        loss_fn = F.l1_loss\n",
        "        loss = loss_fn(out, targets)                       # fill this\n",
        "        return loss\n",
        "    \n",
        "    def validation_step(self, batch):\n",
        "        inputs, targets = batch\n",
        "        # Generate predictions\n",
        "        out = self(inputs)\n",
        "        # Calculate loss\n",
        "        loss_fn = F.l1_loss\n",
        "        loss = loss_fn(out, targets)                          # fill this    \n",
        "        return {'val_loss': loss.detach()}\n",
        "        \n",
        "    def validation_epoch_end(self, outputs):\n",
        "        batch_losses = [x['val_loss'] for x in outputs]\n",
        "        epoch_loss = torch.stack(batch_losses).mean()   # Combine losses\n",
        "        return {'val_loss': epoch_loss.item()}\n",
        "    \n",
        "    def epoch_end(self, epoch, result, num_epochs):\n",
        "        # Print result every 20th epoch\n",
        "        if (epoch+1) % 20 == 0 or epoch == num_epochs-1:\n",
        "            print(\"Epoch [{}], val_loss: {:.4f}\".format(epoch+1, result['val_loss']))"
      ],
      "execution_count": 285,
      "outputs": []
    },
    {
      "cell_type": "markdown",
      "metadata": {
        "id": "-HEBXcUniSp-"
      },
      "source": [
        "Let us create a model using the `InsuranceModel` class. You may need to come back later and re-run the next cell to reinitialize the model, in case the loss becomes `nan` or `infinity`."
      ]
    },
    {
      "cell_type": "code",
      "metadata": {
        "id": "z2I7ne7JiSp-"
      },
      "source": [
        "model = InsuranceModel()"
      ],
      "execution_count": 286,
      "outputs": []
    },
    {
      "cell_type": "markdown",
      "metadata": {
        "id": "mk3QJCH_iSp-"
      },
      "source": [
        "Let's check out the weights and biases of the model using `model.parameters`."
      ]
    },
    {
      "cell_type": "code",
      "metadata": {
        "colab": {
          "base_uri": "https://localhost:8080/"
        },
        "id": "juKTsBO6iSp-",
        "outputId": "485c058a-99b3-4255-bc07-2c83cea32b29"
      },
      "source": [
        "list(model.parameters())"
      ],
      "execution_count": 287,
      "outputs": [
        {
          "output_type": "execute_result",
          "data": {
            "text/plain": [
              "[Parameter containing:\n",
              " tensor([[ 0.3018, -0.2009, -0.3760, -0.1328, -0.2950]], requires_grad=True),\n",
              " Parameter containing:\n",
              " tensor([0.3343], requires_grad=True)]"
            ]
          },
          "metadata": {
            "tags": []
          },
          "execution_count": 287
        }
      ]
    },
    {
      "cell_type": "markdown",
      "metadata": {
        "id": "2jT-r1_3iSp_"
      },
      "source": [
        "One final commit before we train the model."
      ]
    },
    {
      "cell_type": "code",
      "metadata": {
        "colab": {
          "base_uri": "https://localhost:8080/",
          "height": 88
        },
        "id": "3T1rI-G5iSp_",
        "outputId": "98107074-6700-4749-87d3-7f64830d0454"
      },
      "source": [
        "jovian.commit(project=project_name, environment=None)"
      ],
      "execution_count": 288,
      "outputs": [
        {
          "output_type": "stream",
          "text": [
            "[jovian] Detected Colab notebook...\u001b[0m\n",
            "[jovian] Uploading colab notebook to Jovian...\u001b[0m\n",
            "[jovian] Committed successfully! https://jovian.ai/dilanhewawitharana/02-insurance-linear-regression\u001b[0m\n"
          ],
          "name": "stdout"
        },
        {
          "output_type": "execute_result",
          "data": {
            "application/vnd.google.colaboratory.intrinsic+json": {
              "type": "string"
            },
            "text/plain": [
              "'https://jovian.ai/dilanhewawitharana/02-insurance-linear-regression'"
            ]
          },
          "metadata": {
            "tags": []
          },
          "execution_count": 288
        }
      ]
    },
    {
      "cell_type": "markdown",
      "metadata": {
        "id": "LPIWH7VciSp_"
      },
      "source": [
        "## Step 4: Train the model to fit the data\n",
        "\n",
        "To train our model, we'll use the same `fit` function explained in the lecture. That's the benefit of defining a generic training loop - you can use it for any problem."
      ]
    },
    {
      "cell_type": "code",
      "metadata": {
        "id": "S2ehwoFPiSp_"
      },
      "source": [
        "def evaluate(model, val_loader):\n",
        "    outputs = [model.validation_step(batch) for batch in val_loader]\n",
        "    return model.validation_epoch_end(outputs)\n",
        "\n",
        "def fit(epochs, lr, model, train_loader, val_loader, opt_func=torch.optim.SGD):\n",
        "    history = []\n",
        "    optimizer = opt_func(model.parameters(), lr)\n",
        "    for epoch in range(epochs):\n",
        "        # Training Phase \n",
        "        for batch in train_loader:\n",
        "            loss = model.training_step(batch)\n",
        "            loss.backward()\n",
        "            optimizer.step()\n",
        "            optimizer.zero_grad()\n",
        "        # Validation phase\n",
        "        result = evaluate(model, val_loader)\n",
        "        model.epoch_end(epoch, result, epochs)\n",
        "        history.append(result)\n",
        "    return history"
      ],
      "execution_count": 289,
      "outputs": []
    },
    {
      "cell_type": "markdown",
      "metadata": {
        "id": "g_ZecX12iSp_"
      },
      "source": [
        "**Q: Use the `evaluate` function to calculate the loss on the validation set before training.**"
      ]
    },
    {
      "cell_type": "code",
      "metadata": {
        "colab": {
          "base_uri": "https://localhost:8080/"
        },
        "id": "N9cVd1yNiSp_",
        "outputId": "f344cdab-c1f0-4878-9871-fb1ee977e370"
      },
      "source": [
        "result = evaluate(model, val_loader) # Use the the evaluate function\n",
        "print(result)"
      ],
      "execution_count": 290,
      "outputs": [
        {
          "output_type": "stream",
          "text": [
            "{'val_loss': 15308.49609375}\n"
          ],
          "name": "stdout"
        }
      ]
    },
    {
      "cell_type": "markdown",
      "metadata": {
        "id": "hPdWzjHziSqA"
      },
      "source": [
        "\n",
        "We are now ready to train the model. You may need to run the training loop many times, for different number of epochs and with different learning rates, to get a good result. Also, if your loss becomes too large (or `nan`), you may have to re-initialize the model by running the cell `model = InsuranceModel()`. Experiment with this for a while, and try to get to as low a loss as possible."
      ]
    },
    {
      "cell_type": "markdown",
      "metadata": {
        "id": "nx4yv-B7iSqA"
      },
      "source": [
        "**Q: Train the model 4-5 times with different learning rates & for different number of epochs.**\n",
        "\n",
        "Hint: Vary learning rates by orders of 10 (e.g. `1e-2`, `1e-3`, `1e-4`, `1e-5`, `1e-6`) to figure out what works."
      ]
    },
    {
      "cell_type": "code",
      "metadata": {
        "colab": {
          "base_uri": "https://localhost:8080/"
        },
        "id": "FLtsnIu7iSqA",
        "outputId": "a4aa7925-ce31-494a-86d0-59e2ae7e9bec"
      },
      "source": [
        "epochs = 1000\n",
        "lr = 1e-2\n",
        "history1 = fit(epochs, lr, model, train_loader, val_loader)"
      ],
      "execution_count": 291,
      "outputs": [
        {
          "output_type": "stream",
          "text": [
            "Epoch [20], val_loss: 11247.2441\n",
            "Epoch [40], val_loss: 9535.1602\n",
            "Epoch [60], val_loss: 9089.2090\n",
            "Epoch [80], val_loss: 8988.4180\n",
            "Epoch [100], val_loss: 8945.7539\n",
            "Epoch [120], val_loss: 8914.6094\n",
            "Epoch [140], val_loss: 8884.7578\n",
            "Epoch [160], val_loss: 8855.5117\n",
            "Epoch [180], val_loss: 8826.7988\n",
            "Epoch [200], val_loss: 8798.4639\n",
            "Epoch [220], val_loss: 8771.1387\n",
            "Epoch [240], val_loss: 8744.5654\n",
            "Epoch [260], val_loss: 8717.9385\n",
            "Epoch [280], val_loss: 8692.6016\n",
            "Epoch [300], val_loss: 8667.4922\n",
            "Epoch [320], val_loss: 8642.7852\n",
            "Epoch [340], val_loss: 8618.4980\n",
            "Epoch [360], val_loss: 8594.4727\n",
            "Epoch [380], val_loss: 8570.5957\n",
            "Epoch [400], val_loss: 8546.9893\n",
            "Epoch [420], val_loss: 8523.4580\n",
            "Epoch [440], val_loss: 8501.1064\n",
            "Epoch [460], val_loss: 8479.1953\n",
            "Epoch [480], val_loss: 8459.8535\n",
            "Epoch [500], val_loss: 8442.0654\n",
            "Epoch [520], val_loss: 8426.0479\n",
            "Epoch [540], val_loss: 8410.5742\n",
            "Epoch [560], val_loss: 8395.2979\n",
            "Epoch [580], val_loss: 8380.8145\n",
            "Epoch [600], val_loss: 8366.7559\n",
            "Epoch [620], val_loss: 8353.9893\n",
            "Epoch [640], val_loss: 8342.6768\n",
            "Epoch [660], val_loss: 8332.3965\n",
            "Epoch [680], val_loss: 8323.1709\n",
            "Epoch [700], val_loss: 8314.3877\n",
            "Epoch [720], val_loss: 8306.9219\n",
            "Epoch [740], val_loss: 8299.5176\n",
            "Epoch [760], val_loss: 8294.1152\n",
            "Epoch [780], val_loss: 8288.9629\n",
            "Epoch [800], val_loss: 8285.2373\n",
            "Epoch [820], val_loss: 8281.7148\n",
            "Epoch [840], val_loss: 8278.9717\n",
            "Epoch [860], val_loss: 8277.0273\n",
            "Epoch [880], val_loss: 8275.6123\n",
            "Epoch [900], val_loss: 8274.0527\n",
            "Epoch [920], val_loss: 8273.3809\n",
            "Epoch [940], val_loss: 8272.6377\n",
            "Epoch [960], val_loss: 8271.1504\n",
            "Epoch [980], val_loss: 8270.3438\n",
            "Epoch [1000], val_loss: 8269.3887\n"
          ],
          "name": "stdout"
        }
      ]
    },
    {
      "cell_type": "code",
      "metadata": {
        "colab": {
          "base_uri": "https://localhost:8080/"
        },
        "id": "wxtOtc4ciSqA",
        "outputId": "4dc6f488-a98e-4118-e7a5-c39013e54452"
      },
      "source": [
        "epochs = 1000\n",
        "lr = 1e-2\n",
        "history2 = fit(epochs, lr, model, train_loader, val_loader)"
      ],
      "execution_count": 292,
      "outputs": [
        {
          "output_type": "stream",
          "text": [
            "Epoch [20], val_loss: 8268.3008\n",
            "Epoch [40], val_loss: 8267.3350\n",
            "Epoch [60], val_loss: 8266.7617\n",
            "Epoch [80], val_loss: 8267.2852\n",
            "Epoch [100], val_loss: 8266.4131\n",
            "Epoch [120], val_loss: 8266.4375\n",
            "Epoch [140], val_loss: 8265.2207\n",
            "Epoch [160], val_loss: 8264.6680\n",
            "Epoch [180], val_loss: 8265.3418\n",
            "Epoch [200], val_loss: 8265.3955\n",
            "Epoch [220], val_loss: 8264.4805\n",
            "Epoch [240], val_loss: 8263.9658\n",
            "Epoch [260], val_loss: 8264.1738\n",
            "Epoch [280], val_loss: 8264.0000\n",
            "Epoch [300], val_loss: 8263.2998\n",
            "Epoch [320], val_loss: 8263.8750\n",
            "Epoch [340], val_loss: 8263.2227\n",
            "Epoch [360], val_loss: 8262.4834\n",
            "Epoch [380], val_loss: 8262.7305\n",
            "Epoch [400], val_loss: 8262.7227\n",
            "Epoch [420], val_loss: 8262.4180\n",
            "Epoch [440], val_loss: 8261.8926\n",
            "Epoch [460], val_loss: 8261.5273\n",
            "Epoch [480], val_loss: 8261.2539\n",
            "Epoch [500], val_loss: 8261.1602\n",
            "Epoch [520], val_loss: 8260.6572\n",
            "Epoch [540], val_loss: 8259.7012\n",
            "Epoch [560], val_loss: 8259.7080\n",
            "Epoch [580], val_loss: 8259.4775\n",
            "Epoch [600], val_loss: 8259.3418\n",
            "Epoch [620], val_loss: 8258.7695\n",
            "Epoch [640], val_loss: 8258.1553\n",
            "Epoch [660], val_loss: 8257.5898\n",
            "Epoch [680], val_loss: 8257.9609\n",
            "Epoch [700], val_loss: 8256.8584\n",
            "Epoch [720], val_loss: 8257.2168\n",
            "Epoch [740], val_loss: 8256.8115\n",
            "Epoch [760], val_loss: 8257.0312\n",
            "Epoch [780], val_loss: 8256.4434\n",
            "Epoch [800], val_loss: 8256.2637\n",
            "Epoch [820], val_loss: 8256.2441\n",
            "Epoch [840], val_loss: 8256.1396\n",
            "Epoch [860], val_loss: 8255.7646\n",
            "Epoch [880], val_loss: 8255.8564\n",
            "Epoch [900], val_loss: 8254.9883\n",
            "Epoch [920], val_loss: 8254.7080\n",
            "Epoch [940], val_loss: 8254.6475\n",
            "Epoch [960], val_loss: 8254.8057\n",
            "Epoch [980], val_loss: 8254.0986\n",
            "Epoch [1000], val_loss: 8254.0234\n"
          ],
          "name": "stdout"
        }
      ]
    },
    {
      "cell_type": "code",
      "metadata": {
        "colab": {
          "base_uri": "https://localhost:8080/"
        },
        "id": "OW14hI6OiSqA",
        "outputId": "f68c1a77-6375-4cb1-c4d0-a38ce722d7d4"
      },
      "source": [
        "epochs = 1000\n",
        "lr = 1e-2\n",
        "history3 = fit(epochs, lr, model, train_loader, val_loader)"
      ],
      "execution_count": 293,
      "outputs": [
        {
          "output_type": "stream",
          "text": [
            "Epoch [20], val_loss: 8253.4238\n",
            "Epoch [40], val_loss: 8253.6475\n",
            "Epoch [60], val_loss: 8253.1973\n",
            "Epoch [80], val_loss: 8252.8633\n",
            "Epoch [100], val_loss: 8253.0020\n",
            "Epoch [120], val_loss: 8252.6934\n",
            "Epoch [140], val_loss: 8252.6758\n",
            "Epoch [160], val_loss: 8252.2393\n",
            "Epoch [180], val_loss: 8251.5195\n",
            "Epoch [200], val_loss: 8251.2295\n",
            "Epoch [220], val_loss: 8251.4404\n",
            "Epoch [240], val_loss: 8251.1260\n",
            "Epoch [260], val_loss: 8250.5293\n",
            "Epoch [280], val_loss: 8250.5596\n",
            "Epoch [300], val_loss: 8250.3672\n",
            "Epoch [320], val_loss: 8249.9668\n",
            "Epoch [340], val_loss: 8249.9102\n",
            "Epoch [360], val_loss: 8250.3809\n",
            "Epoch [380], val_loss: 8249.3008\n",
            "Epoch [400], val_loss: 8250.1377\n",
            "Epoch [420], val_loss: 8249.6934\n",
            "Epoch [440], val_loss: 8249.5273\n",
            "Epoch [460], val_loss: 8249.1426\n",
            "Epoch [480], val_loss: 8248.8770\n",
            "Epoch [500], val_loss: 8248.9834\n",
            "Epoch [520], val_loss: 8248.6152\n",
            "Epoch [540], val_loss: 8248.6484\n",
            "Epoch [560], val_loss: 8248.1133\n",
            "Epoch [580], val_loss: 8247.9336\n",
            "Epoch [600], val_loss: 8247.6484\n",
            "Epoch [620], val_loss: 8247.3262\n",
            "Epoch [640], val_loss: 8247.4707\n",
            "Epoch [660], val_loss: 8247.5146\n",
            "Epoch [680], val_loss: 8247.0400\n",
            "Epoch [700], val_loss: 8246.5010\n",
            "Epoch [720], val_loss: 8246.7178\n",
            "Epoch [740], val_loss: 8246.6738\n",
            "Epoch [760], val_loss: 8246.6025\n",
            "Epoch [780], val_loss: 8245.5039\n",
            "Epoch [800], val_loss: 8246.7988\n",
            "Epoch [820], val_loss: 8246.5029\n",
            "Epoch [840], val_loss: 8245.7861\n",
            "Epoch [860], val_loss: 8246.0840\n",
            "Epoch [880], val_loss: 8245.7822\n",
            "Epoch [900], val_loss: 8245.7793\n",
            "Epoch [920], val_loss: 8245.4189\n",
            "Epoch [940], val_loss: 8244.7559\n",
            "Epoch [960], val_loss: 8244.5469\n",
            "Epoch [980], val_loss: 8244.6074\n",
            "Epoch [1000], val_loss: 8243.1484\n"
          ],
          "name": "stdout"
        }
      ]
    },
    {
      "cell_type": "code",
      "metadata": {
        "colab": {
          "base_uri": "https://localhost:8080/"
        },
        "id": "AgFsTcwMiSqB",
        "outputId": "cee64b67-98d8-4da0-92aa-331041f2453a"
      },
      "source": [
        "epochs = 1000\n",
        "lr = 1e-2\n",
        "history4 = fit(epochs, lr, model, train_loader, val_loader)"
      ],
      "execution_count": 294,
      "outputs": [
        {
          "output_type": "stream",
          "text": [
            "Epoch [20], val_loss: 8243.7900\n",
            "Epoch [40], val_loss: 8243.6260\n",
            "Epoch [60], val_loss: 8243.7578\n",
            "Epoch [80], val_loss: 8243.9795\n",
            "Epoch [100], val_loss: 8243.6172\n",
            "Epoch [120], val_loss: 8243.0859\n",
            "Epoch [140], val_loss: 8242.3994\n",
            "Epoch [160], val_loss: 8242.1768\n",
            "Epoch [180], val_loss: 8242.1367\n",
            "Epoch [200], val_loss: 8242.1797\n",
            "Epoch [220], val_loss: 8242.0312\n",
            "Epoch [240], val_loss: 8240.7969\n",
            "Epoch [260], val_loss: 8242.0283\n",
            "Epoch [280], val_loss: 8241.7129\n",
            "Epoch [300], val_loss: 8241.7412\n",
            "Epoch [320], val_loss: 8241.2061\n",
            "Epoch [340], val_loss: 8241.0244\n",
            "Epoch [360], val_loss: 8240.9922\n",
            "Epoch [380], val_loss: 8240.7363\n",
            "Epoch [400], val_loss: 8240.3154\n",
            "Epoch [420], val_loss: 8239.6689\n",
            "Epoch [440], val_loss: 8239.9385\n",
            "Epoch [460], val_loss: 8239.4092\n",
            "Epoch [480], val_loss: 8239.4277\n",
            "Epoch [500], val_loss: 8239.2705\n",
            "Epoch [520], val_loss: 8238.7031\n",
            "Epoch [540], val_loss: 8238.6738\n",
            "Epoch [560], val_loss: 8238.0938\n",
            "Epoch [580], val_loss: 8237.7715\n",
            "Epoch [600], val_loss: 8237.7871\n",
            "Epoch [620], val_loss: 8237.3389\n",
            "Epoch [640], val_loss: 8236.9404\n",
            "Epoch [660], val_loss: 8236.1455\n",
            "Epoch [680], val_loss: 8236.6797\n",
            "Epoch [700], val_loss: 8237.2949\n",
            "Epoch [720], val_loss: 8236.4658\n",
            "Epoch [740], val_loss: 8236.5293\n",
            "Epoch [760], val_loss: 8235.9609\n",
            "Epoch [780], val_loss: 8236.1797\n",
            "Epoch [800], val_loss: 8236.1406\n",
            "Epoch [820], val_loss: 8236.3770\n",
            "Epoch [840], val_loss: 8235.6592\n",
            "Epoch [860], val_loss: 8235.8896\n",
            "Epoch [880], val_loss: 8235.1367\n",
            "Epoch [900], val_loss: 8235.0840\n",
            "Epoch [920], val_loss: 8235.3047\n",
            "Epoch [940], val_loss: 8234.8701\n",
            "Epoch [960], val_loss: 8234.6543\n",
            "Epoch [980], val_loss: 8234.1748\n",
            "Epoch [1000], val_loss: 8234.6582\n"
          ],
          "name": "stdout"
        }
      ]
    },
    {
      "cell_type": "code",
      "metadata": {
        "colab": {
          "base_uri": "https://localhost:8080/"
        },
        "id": "vsocF6h1iSqB",
        "outputId": "c28de289-96ff-46ca-914c-a8d67d6c0d62"
      },
      "source": [
        "epochs = 1000\n",
        "lr = 1e-2\n",
        "history5 = fit(epochs, lr, model, train_loader, val_loader)"
      ],
      "execution_count": 295,
      "outputs": [
        {
          "output_type": "stream",
          "text": [
            "Epoch [20], val_loss: 8234.5107\n",
            "Epoch [40], val_loss: 8233.9092\n",
            "Epoch [60], val_loss: 8232.7246\n",
            "Epoch [80], val_loss: 8232.2139\n",
            "Epoch [100], val_loss: 8232.0859\n",
            "Epoch [120], val_loss: 8231.9980\n",
            "Epoch [140], val_loss: 8231.6934\n",
            "Epoch [160], val_loss: 8231.1699\n",
            "Epoch [180], val_loss: 8231.9375\n",
            "Epoch [200], val_loss: 8231.2578\n",
            "Epoch [220], val_loss: 8231.6357\n",
            "Epoch [240], val_loss: 8231.1562\n",
            "Epoch [260], val_loss: 8230.7754\n",
            "Epoch [280], val_loss: 8230.2500\n",
            "Epoch [300], val_loss: 8230.7861\n",
            "Epoch [320], val_loss: 8229.7012\n",
            "Epoch [340], val_loss: 8230.0742\n",
            "Epoch [360], val_loss: 8229.5957\n",
            "Epoch [380], val_loss: 8229.2432\n",
            "Epoch [400], val_loss: 8229.8945\n",
            "Epoch [420], val_loss: 8228.8340\n",
            "Epoch [440], val_loss: 8229.7090\n",
            "Epoch [460], val_loss: 8228.5273\n",
            "Epoch [480], val_loss: 8228.5723\n",
            "Epoch [500], val_loss: 8228.1387\n",
            "Epoch [520], val_loss: 8228.6445\n",
            "Epoch [540], val_loss: 8228.9336\n",
            "Epoch [560], val_loss: 8227.5254\n",
            "Epoch [580], val_loss: 8227.9316\n",
            "Epoch [600], val_loss: 8228.2969\n",
            "Epoch [620], val_loss: 8227.5439\n",
            "Epoch [640], val_loss: 8228.4238\n",
            "Epoch [660], val_loss: 8227.2822\n",
            "Epoch [680], val_loss: 8227.0537\n",
            "Epoch [700], val_loss: 8227.1904\n",
            "Epoch [720], val_loss: 8226.1924\n",
            "Epoch [740], val_loss: 8225.9512\n",
            "Epoch [760], val_loss: 8226.2539\n",
            "Epoch [780], val_loss: 8226.3965\n",
            "Epoch [800], val_loss: 8226.3008\n",
            "Epoch [820], val_loss: 8225.4727\n",
            "Epoch [840], val_loss: 8225.3906\n",
            "Epoch [860], val_loss: 8224.9590\n",
            "Epoch [880], val_loss: 8224.9717\n",
            "Epoch [900], val_loss: 8224.9902\n",
            "Epoch [920], val_loss: 8224.7627\n",
            "Epoch [940], val_loss: 8224.6787\n",
            "Epoch [960], val_loss: 8224.2549\n",
            "Epoch [980], val_loss: 8224.0977\n",
            "Epoch [1000], val_loss: 8224.1152\n"
          ],
          "name": "stdout"
        }
      ]
    },
    {
      "cell_type": "markdown",
      "metadata": {
        "id": "6EGXME2diSqB"
      },
      "source": [
        "**Q: What is the final validation loss of your model?**"
      ]
    },
    {
      "cell_type": "code",
      "metadata": {
        "id": "Fiv1jNpgiSqB"
      },
      "source": [
        "val_loss = 8224.1152"
      ],
      "execution_count": 296,
      "outputs": []
    },
    {
      "cell_type": "markdown",
      "metadata": {
        "id": "p_r_Y1E_iSqB"
      },
      "source": [
        "Let's log the final validation loss to Jovian and commit the notebook"
      ]
    },
    {
      "cell_type": "code",
      "metadata": {
        "id": "8gwtMRjSiSqC",
        "colab": {
          "base_uri": "https://localhost:8080/"
        },
        "outputId": "ff0a4261-c44f-43ec-d908-b8e4848f48eb"
      },
      "source": [
        "jovian.log_metrics(val_loss=val_loss)"
      ],
      "execution_count": 297,
      "outputs": [
        {
          "output_type": "stream",
          "text": [
            "[jovian] Metrics logged.\u001b[0m\n"
          ],
          "name": "stdout"
        }
      ]
    },
    {
      "cell_type": "code",
      "metadata": {
        "id": "UOHop8qNiSqC",
        "colab": {
          "base_uri": "https://localhost:8080/",
          "height": 105
        },
        "outputId": "33ff46cb-6da2-4547-c1e6-d7aafa7854b6"
      },
      "source": [
        "jovian.commit(project=project_name, environment=None)"
      ],
      "execution_count": 298,
      "outputs": [
        {
          "output_type": "stream",
          "text": [
            "[jovian] Detected Colab notebook...\u001b[0m\n",
            "[jovian] Uploading colab notebook to Jovian...\u001b[0m\n",
            "[jovian] Attaching records (metrics, hyperparameters, dataset etc.)\u001b[0m\n",
            "[jovian] Committed successfully! https://jovian.ai/dilanhewawitharana/02-insurance-linear-regression\u001b[0m\n"
          ],
          "name": "stdout"
        },
        {
          "output_type": "execute_result",
          "data": {
            "application/vnd.google.colaboratory.intrinsic+json": {
              "type": "string"
            },
            "text/plain": [
              "'https://jovian.ai/dilanhewawitharana/02-insurance-linear-regression'"
            ]
          },
          "metadata": {
            "tags": []
          },
          "execution_count": 298
        }
      ]
    },
    {
      "cell_type": "markdown",
      "metadata": {
        "id": "aP2u1-wuiSqC"
      },
      "source": [
        "Now scroll back up, re-initialize the model, and try different set of values for batch size, number of epochs, learning rate etc. Commit each experiment and use the \"Compare\" and \"View Diff\" options on Jovian to compare the different results."
      ]
    },
    {
      "cell_type": "markdown",
      "metadata": {
        "id": "Lf-uQundiSqC"
      },
      "source": [
        "## Step 5: Make predictions using the trained model\n",
        "\n",
        "**Q: Complete the following function definition to make predictions on a single input**"
      ]
    },
    {
      "cell_type": "code",
      "metadata": {
        "id": "FfZ2YIZ0iSqC"
      },
      "source": [
        "def predict_single(input, target, model):\n",
        "    inputs = input.unsqueeze(0)\n",
        "    predictions = model(inputs)               # fill this\n",
        "    prediction = predictions[0].detach()\n",
        "    print(\"Input:\", input)\n",
        "    print(\"Target:\", target)\n",
        "    print(\"Prediction:\", prediction)"
      ],
      "execution_count": 301,
      "outputs": []
    },
    {
      "cell_type": "code",
      "metadata": {
        "id": "8arLMFLJiSqC",
        "colab": {
          "base_uri": "https://localhost:8080/"
        },
        "outputId": "d022e98f-8c25-4676-b273-11926c42034b"
      },
      "source": [
        "input, target = val_ds[0]\n",
        "predict_single(input, target, model)"
      ],
      "execution_count": 302,
      "outputs": [
        {
          "output_type": "stream",
          "text": [
            "Input: tensor([27.0000,  1.0000, 24.2550,  0.0000,  0.0000])\n",
            "Target: tensor([2682.4348])\n",
            "Prediction: tensor([5266.7627])\n"
          ],
          "name": "stdout"
        }
      ]
    },
    {
      "cell_type": "code",
      "metadata": {
        "id": "KXk6XrSjiSqC",
        "colab": {
          "base_uri": "https://localhost:8080/"
        },
        "outputId": "581d7ee7-54f7-403b-cc78-2a5a067f36c2"
      },
      "source": [
        "input, target = val_ds[10]\n",
        "predict_single(input, target, model)"
      ],
      "execution_count": 303,
      "outputs": [
        {
          "output_type": "stream",
          "text": [
            "Input: tensor([45.0000,  1.0000, 41.7952,  0.0000,  0.0000])\n",
            "Target: tensor([8044.2764])\n",
            "Prediction: tensor([8692.8184])\n"
          ],
          "name": "stdout"
        }
      ]
    },
    {
      "cell_type": "code",
      "metadata": {
        "id": "dS3GOwrciSqD",
        "colab": {
          "base_uri": "https://localhost:8080/"
        },
        "outputId": "f0814424-db53-4b80-d82c-8964f292bdb3"
      },
      "source": [
        "input, target = val_ds[23]\n",
        "predict_single(input, target, model)"
      ],
      "execution_count": 304,
      "outputs": [
        {
          "output_type": "stream",
          "text": [
            "Input: tensor([31.0000,  1.0000, 41.4645,  1.0000,  0.0000])\n",
            "Target: tensor([4185.7930])\n",
            "Prediction: tensor([4984.5625])\n"
          ],
          "name": "stdout"
        }
      ]
    },
    {
      "cell_type": "markdown",
      "metadata": {
        "id": "uUfbaCY8iSqD"
      },
      "source": [
        "Are you happy with your model's predictions? Try to improve them further."
      ]
    },
    {
      "cell_type": "markdown",
      "metadata": {
        "id": "mx4WbzdPiSqD"
      },
      "source": [
        "## (Optional) Step 6: Try another dataset & blog about it\n",
        "\n",
        "While this last step is optional for the submission of your assignment, we highly recommend that you do it. Try to replicate this notebook for a different linear regression or logistic regression problem. This will help solidify your understanding, and give you a chance to differentiate the generic patterns in machine learning from problem-specific details.You can use one of these starer notebooks (just change the dataset):\n",
        "\n",
        "- Linear regression (minimal): https://jovian.ai/aakashns/housing-linear-minimal\n",
        "- Logistic regression (minimal): https://jovian.ai/aakashns/mnist-logistic-minimal\n",
        "\n",
        "Here are some sources to find good datasets:\n",
        "\n",
        "- https://lionbridge.ai/datasets/10-open-datasets-for-linear-regression/\n",
        "- https://www.kaggle.com/rtatman/datasets-for-regression-analysis\n",
        "- https://archive.ics.uci.edu/ml/datasets.php?format=&task=reg&att=&area=&numAtt=&numIns=&type=&sort=nameUp&view=table\n",
        "- https://people.sc.fsu.edu/~jburkardt/datasets/regression/regression.html\n",
        "- https://archive.ics.uci.edu/ml/datasets/wine+quality\n",
        "- https://pytorch.org/docs/stable/torchvision/datasets.html\n",
        "\n",
        "We also recommend that you write a blog about your approach to the problem. Here is a suggested structure for your post (feel free to experiment with it):\n",
        "\n",
        "- Interesting title & subtitle\n",
        "- Overview of what the blog covers (which dataset, linear regression or logistic regression, intro to PyTorch)\n",
        "- Downloading & exploring the data\n",
        "- Preparing the data for training\n",
        "- Creating a model using PyTorch\n",
        "- Training the model to fit the data\n",
        "- Your thoughts on how to experiment with different hyperparmeters to reduce loss\n",
        "- Making predictions using the model\n",
        "\n",
        "As with the previous assignment, you can [embed Juptyer notebook cells & outputs from Jovian](https://medium.com/jovianml/share-and-embed-jupyter-notebooks-online-with-jovian-ml-df709a03064e) into your blog. \n",
        "\n",
        "Don't forget to share your work on the forum: https://jovian.ai/forum/t/linear-regression-and-logistic-regression-notebooks-and-blog-posts/14039"
      ]
    },
    {
      "cell_type": "code",
      "metadata": {
        "id": "xYJg1c7diSqD",
        "colab": {
          "base_uri": "https://localhost:8080/",
          "height": 176
        },
        "outputId": "f0e30f49-e92d-41d0-de0f-f1fcd1c78d6f"
      },
      "source": [
        "jovian.commit(project=project_name, environment=None)\n",
        "jovian.commit(project=project_name, environment=None) # try again, kaggle fails sometimes"
      ],
      "execution_count": 305,
      "outputs": [
        {
          "output_type": "stream",
          "text": [
            "[jovian] Detected Colab notebook...\u001b[0m\n",
            "[jovian] Uploading colab notebook to Jovian...\u001b[0m\n",
            "[jovian] Attaching records (metrics, hyperparameters, dataset etc.)\u001b[0m\n",
            "[jovian] Committed successfully! https://jovian.ai/dilanhewawitharana/02-insurance-linear-regression\u001b[0m\n",
            "[jovian] Detected Colab notebook...\u001b[0m\n",
            "[jovian] Uploading colab notebook to Jovian...\u001b[0m\n",
            "[jovian] Attaching records (metrics, hyperparameters, dataset etc.)\u001b[0m\n",
            "[jovian] Committed successfully! https://jovian.ai/dilanhewawitharana/02-insurance-linear-regression\u001b[0m\n"
          ],
          "name": "stdout"
        },
        {
          "output_type": "execute_result",
          "data": {
            "application/vnd.google.colaboratory.intrinsic+json": {
              "type": "string"
            },
            "text/plain": [
              "'https://jovian.ai/dilanhewawitharana/02-insurance-linear-regression'"
            ]
          },
          "metadata": {
            "tags": []
          },
          "execution_count": 305
        }
      ]
    },
    {
      "cell_type": "code",
      "metadata": {
        "id": "Ztp_QFnDiSqG"
      },
      "source": [
        ""
      ],
      "execution_count": null,
      "outputs": []
    }
  ]
}