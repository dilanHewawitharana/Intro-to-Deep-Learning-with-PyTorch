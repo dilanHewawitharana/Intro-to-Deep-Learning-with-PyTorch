{
  "nbformat": 4,
  "nbformat_minor": 0,
  "metadata": {
    "colab": {
      "name": "cassava-leaf-disease-classification.ipynb",
      "provenance": [],
      "authorship_tag": "ABX9TyNYShREkIPKOL/zto2HpQ1e",
      "include_colab_link": true
    },
    "kernelspec": {
      "name": "python3",
      "display_name": "Python 3"
    }
  },
  "cells": [
    {
      "cell_type": "markdown",
      "metadata": {
        "id": "view-in-github",
        "colab_type": "text"
      },
      "source": [
        "<a href=\"https://colab.research.google.com/github/dilanHewawitharana/Intro-to-Deep-Learning-with-PyTorch/blob/master/cassava_leaf_disease_classification.ipynb\" target=\"_parent\"><img src=\"https://colab.research.google.com/assets/colab-badge.svg\" alt=\"Open In Colab\"/></a>"
      ]
    },
    {
      "cell_type": "code",
      "metadata": {
        "id": "zow210o70gtA"
      },
      "source": [
        "!pip install opendatasets --upgrade --quiet"
      ],
      "execution_count": 1,
      "outputs": []
    },
    {
      "cell_type": "code",
      "metadata": {
        "id": "LKXLQaXK0jhL"
      },
      "source": [
        "import opendatasets as od"
      ],
      "execution_count": 2,
      "outputs": []
    },
    {
      "cell_type": "code",
      "metadata": {
        "colab": {
          "base_uri": "https://localhost:8080/"
        },
        "id": "hmPvShog0l4B",
        "outputId": "f4036552-4dcd-4fb9-b80d-21792ceeeae0"
      },
      "source": [
        "od.download('https://www.kaggle.com/c/cassava-leaf-disease-classification')"
      ],
      "execution_count": 3,
      "outputs": [
        {
          "output_type": "stream",
          "text": [
            "Please provide your Kaggle credentials to download this dataset. Learn more: http://bit.ly/kaggle-creds\n",
            "Your Kaggle username: dilansarith\n",
            "Your Kaggle Key: ··········\n"
          ],
          "name": "stdout"
        },
        {
          "output_type": "stream",
          "text": [
            "  0%|          | 8.00M/5.76G [00:00<01:14, 83.3MB/s]"
          ],
          "name": "stderr"
        },
        {
          "output_type": "stream",
          "text": [
            "Downloading cassava-leaf-disease-classification.zip to ./cassava-leaf-disease-classification\n"
          ],
          "name": "stdout"
        },
        {
          "output_type": "stream",
          "text": [
            "100%|██████████| 5.76G/5.76G [01:24<00:00, 73.0MB/s]"
          ],
          "name": "stderr"
        },
        {
          "output_type": "stream",
          "text": [
            "\n"
          ],
          "name": "stdout"
        },
        {
          "output_type": "stream",
          "text": [
            "\n"
          ],
          "name": "stderr"
        }
      ]
    },
    {
      "cell_type": "code",
      "metadata": {
        "id": "WaZ_A2Uc1Otq"
      },
      "source": [
        "import zipfile\r\n",
        "\r\n",
        "with zipfile.ZipFile('/content/cassava-leaf-disease-classification/cassava-leaf-disease-classification.zip', 'r') as zip_ref:\r\n",
        "    zip_ref.extractall('./cassava-leaf-disease-classification')"
      ],
      "execution_count": 8,
      "outputs": []
    },
    {
      "cell_type": "code",
      "metadata": {
        "id": "ABNt385A2pAW"
      },
      "source": [
        "import os\r\n",
        "import torch\r\n",
        "import pandas as pd\r\n",
        "import numpy as np\r\n",
        "from torch.utils.data import Dataset, random_split, DataLoader\r\n",
        "from PIL import Image\r\n",
        "import torchvision.models as models\r\n",
        "import matplotlib.pyplot as plt\r\n",
        "import torchvision.transforms as transforms\r\n",
        "from sklearn.metrics import f1_score\r\n",
        "import torch.nn.functional as F\r\n",
        "import torch.nn as nn\r\n",
        "from torchvision.utils import make_grid\r\n",
        "%matplotlib inline"
      ],
      "execution_count": 16,
      "outputs": []
    },
    {
      "cell_type": "code",
      "metadata": {
        "id": "ljPm9dsc2186"
      },
      "source": [
        "DATA_DIR = './cassava-leaf-disease-classification'\r\n",
        "\r\n",
        "TRAIN_DIR = DATA_DIR + '/train_images' # Contains training images\r\n",
        "TEST_DIR = DATA_DIR + '/test_images' # Contains test images\r\n",
        "\r\n",
        "TRAIN_CSV = DATA_DIR + '/train.csv' # Contains real labels for training images\r\n",
        "TEST_CSV = '/content/cassava-leaf-disease-classification/sample_submission.csv' # Contains dummy labels for test image"
      ],
      "execution_count": 17,
      "outputs": []
    },
    {
      "cell_type": "code",
      "metadata": {
        "colab": {
          "base_uri": "https://localhost:8080/"
        },
        "id": "YIG3hSb939eu",
        "outputId": "f8cfb46e-c4a9-43f3-b98e-59e1a097259c"
      },
      "source": [
        "!head \"{TRAIN_CSV}\""
      ],
      "execution_count": 18,
      "outputs": [
        {
          "output_type": "stream",
          "text": [
            "image_id,label\n",
            "1000015157.jpg,0\n",
            "1000201771.jpg,3\n",
            "100042118.jpg,1\n",
            "1000723321.jpg,1\n",
            "1000812911.jpg,3\n",
            "1000837476.jpg,3\n",
            "1000910826.jpg,2\n",
            "1001320321.jpg,0\n",
            "1001723730.jpg,4\n"
          ],
          "name": "stdout"
        }
      ]
    },
    {
      "cell_type": "code",
      "metadata": {
        "colab": {
          "base_uri": "https://localhost:8080/"
        },
        "id": "iK7c4gg24FeC",
        "outputId": "05351402-353f-4868-8310-b9cbffa3740f"
      },
      "source": [
        "!head \"{TEST_CSV}\""
      ],
      "execution_count": 19,
      "outputs": [
        {
          "output_type": "stream",
          "text": [
            "image_id,label\n",
            "2216849948.jpg,4\n"
          ],
          "name": "stdout"
        }
      ]
    },
    {
      "cell_type": "code",
      "metadata": {
        "colab": {
          "base_uri": "https://localhost:8080/"
        },
        "id": "-pExCOrP4Qba",
        "outputId": "77a12e56-7d55-4953-8bf1-b143a5fc08ce"
      },
      "source": [
        "!ls \"{TRAIN_DIR}\" | head"
      ],
      "execution_count": 20,
      "outputs": [
        {
          "output_type": "stream",
          "text": [
            "1000015157.jpg\n",
            "1000201771.jpg\n",
            "100042118.jpg\n",
            "1000723321.jpg\n",
            "1000812911.jpg\n",
            "1000837476.jpg\n",
            "1000910826.jpg\n",
            "1001320321.jpg\n",
            "1001723730.jpg\n",
            "1001742395.jpg\n"
          ],
          "name": "stdout"
        }
      ]
    },
    {
      "cell_type": "code",
      "metadata": {
        "colab": {
          "base_uri": "https://localhost:8080/",
          "height": 203
        },
        "id": "MMAv4Daw45ta",
        "outputId": "95cd6257-44a9-42c2-f68b-cfd3368e27c0"
      },
      "source": [
        "train_df = pd.read_csv(TRAIN_CSV)\r\n",
        "train_df.head()"
      ],
      "execution_count": 21,
      "outputs": [
        {
          "output_type": "execute_result",
          "data": {
            "text/html": [
              "<div>\n",
              "<style scoped>\n",
              "    .dataframe tbody tr th:only-of-type {\n",
              "        vertical-align: middle;\n",
              "    }\n",
              "\n",
              "    .dataframe tbody tr th {\n",
              "        vertical-align: top;\n",
              "    }\n",
              "\n",
              "    .dataframe thead th {\n",
              "        text-align: right;\n",
              "    }\n",
              "</style>\n",
              "<table border=\"1\" class=\"dataframe\">\n",
              "  <thead>\n",
              "    <tr style=\"text-align: right;\">\n",
              "      <th></th>\n",
              "      <th>image_id</th>\n",
              "      <th>label</th>\n",
              "    </tr>\n",
              "  </thead>\n",
              "  <tbody>\n",
              "    <tr>\n",
              "      <th>0</th>\n",
              "      <td>1000015157.jpg</td>\n",
              "      <td>0</td>\n",
              "    </tr>\n",
              "    <tr>\n",
              "      <th>1</th>\n",
              "      <td>1000201771.jpg</td>\n",
              "      <td>3</td>\n",
              "    </tr>\n",
              "    <tr>\n",
              "      <th>2</th>\n",
              "      <td>100042118.jpg</td>\n",
              "      <td>1</td>\n",
              "    </tr>\n",
              "    <tr>\n",
              "      <th>3</th>\n",
              "      <td>1000723321.jpg</td>\n",
              "      <td>1</td>\n",
              "    </tr>\n",
              "    <tr>\n",
              "      <th>4</th>\n",
              "      <td>1000812911.jpg</td>\n",
              "      <td>3</td>\n",
              "    </tr>\n",
              "  </tbody>\n",
              "</table>\n",
              "</div>"
            ],
            "text/plain": [
              "         image_id  label\n",
              "0  1000015157.jpg      0\n",
              "1  1000201771.jpg      3\n",
              "2   100042118.jpg      1\n",
              "3  1000723321.jpg      1\n",
              "4  1000812911.jpg      3"
            ]
          },
          "metadata": {
            "tags": []
          },
          "execution_count": 21
        }
      ]
    },
    {
      "cell_type": "code",
      "metadata": {
        "colab": {
          "base_uri": "https://localhost:8080/"
        },
        "id": "hyIumrQk49hz",
        "outputId": "a59ba3b9-ca66-4194-fa82-62693dac9b6b"
      },
      "source": [
        "len(train_df)"
      ],
      "execution_count": 28,
      "outputs": [
        {
          "output_type": "execute_result",
          "data": {
            "text/plain": [
              "21397"
            ]
          },
          "metadata": {
            "tags": []
          },
          "execution_count": 28
        }
      ]
    },
    {
      "cell_type": "code",
      "metadata": {
        "colab": {
          "base_uri": "https://localhost:8080/"
        },
        "id": "tUZ44DiD5oiN",
        "outputId": "1c175386-e45b-4eec-899b-db649f081894"
      },
      "source": [
        "print(len(os.listdir(TRAIN_DIR)))"
      ],
      "execution_count": 30,
      "outputs": [
        {
          "output_type": "stream",
          "text": [
            "21397\n"
          ],
          "name": "stdout"
        }
      ]
    },
    {
      "cell_type": "code",
      "metadata": {
        "colab": {
          "base_uri": "https://localhost:8080/",
          "height": 203
        },
        "id": "K-Fqjn-U9j41",
        "outputId": "90a68a59-381f-4e2d-e83f-7e5d0445cc39"
      },
      "source": [
        "label_map = pd.read_json('/content/cassava-leaf-disease-classification/label_num_to_disease_map.json', \r\n",
        "                         orient='index')\r\n",
        "label_map"
      ],
      "execution_count": 34,
      "outputs": [
        {
          "output_type": "execute_result",
          "data": {
            "text/html": [
              "<div>\n",
              "<style scoped>\n",
              "    .dataframe tbody tr th:only-of-type {\n",
              "        vertical-align: middle;\n",
              "    }\n",
              "\n",
              "    .dataframe tbody tr th {\n",
              "        vertical-align: top;\n",
              "    }\n",
              "\n",
              "    .dataframe thead th {\n",
              "        text-align: right;\n",
              "    }\n",
              "</style>\n",
              "<table border=\"1\" class=\"dataframe\">\n",
              "  <thead>\n",
              "    <tr style=\"text-align: right;\">\n",
              "      <th></th>\n",
              "      <th>0</th>\n",
              "    </tr>\n",
              "  </thead>\n",
              "  <tbody>\n",
              "    <tr>\n",
              "      <th>0</th>\n",
              "      <td>Cassava Bacterial Blight (CBB)</td>\n",
              "    </tr>\n",
              "    <tr>\n",
              "      <th>1</th>\n",
              "      <td>Cassava Brown Streak Disease (CBSD)</td>\n",
              "    </tr>\n",
              "    <tr>\n",
              "      <th>2</th>\n",
              "      <td>Cassava Green Mottle (CGM)</td>\n",
              "    </tr>\n",
              "    <tr>\n",
              "      <th>3</th>\n",
              "      <td>Cassava Mosaic Disease (CMD)</td>\n",
              "    </tr>\n",
              "    <tr>\n",
              "      <th>4</th>\n",
              "      <td>Healthy</td>\n",
              "    </tr>\n",
              "  </tbody>\n",
              "</table>\n",
              "</div>"
            ],
            "text/plain": [
              "                                     0\n",
              "0       Cassava Bacterial Blight (CBB)\n",
              "1  Cassava Brown Streak Disease (CBSD)\n",
              "2           Cassava Green Mottle (CGM)\n",
              "3         Cassava Mosaic Disease (CMD)\n",
              "4                              Healthy"
            ]
          },
          "metadata": {
            "tags": []
          },
          "execution_count": 34
        }
      ]
    }
  ]
}